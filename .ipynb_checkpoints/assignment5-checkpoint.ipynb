{
 "cells": [
  {
   "cell_type": "code",
   "execution_count": 6,
   "metadata": {},
   "outputs": [
    {
     "ename": "TypeError",
     "evalue": "system_form_problem_12_15() got an unexpected keyword argument 'Load1'",
     "output_type": "error",
     "traceback": [
      "\u001b[0;31m---------------------------------------------------------------------------\u001b[0m",
      "\u001b[0;31mTypeError\u001b[0m                                 Traceback (most recent call last)",
      "\u001b[0;32m<ipython-input-6-abb68bc513dd>\u001b[0m in \u001b[0;36m<module>\u001b[0;34m()\u001b[0m\n\u001b[1;32m     37\u001b[0m \u001b[0mLOAD2\u001b[0m \u001b[0;34m=\u001b[0m \u001b[0;36m200.0\u001b[0m\u001b[0;34m\u001b[0m\u001b[0m\n\u001b[1;32m     38\u001b[0m \u001b[0;34m\u001b[0m\u001b[0m\n\u001b[0;32m---> 39\u001b[0;31m \u001b[0mmain\u001b[0m\u001b[0;34m(\u001b[0m\u001b[0;34m)\u001b[0m\u001b[0;34m\u001b[0m\u001b[0m\n\u001b[0m",
      "\u001b[0;32m<ipython-input-6-abb68bc513dd>\u001b[0m in \u001b[0;36mmain\u001b[0;34m()\u001b[0m\n\u001b[1;32m     25\u001b[0m     \u001b[0mLOAD1\u001b[0m\u001b[0;34m,\u001b[0m\u001b[0;34m\u001b[0m\u001b[0m\n\u001b[1;32m     26\u001b[0m \u001b[0;34m\u001b[0m\u001b[0m\n\u001b[0;32m---> 27\u001b[0;31m     \u001b[0mA\u001b[0m\u001b[0;34m,\u001b[0m \u001b[0mb\u001b[0m \u001b[0;34m=\u001b[0m \u001b[0msystem_form_problem_12_15\u001b[0m\u001b[0;34m(\u001b[0m\u001b[0mLoad1\u001b[0m\u001b[0;34m=\u001b[0m\u001b[0mLOAD1\u001b[0m\u001b[0;34m,\u001b[0m \u001b[0mLoad2\u001b[0m\u001b[0;34m=\u001b[0m\u001b[0mLOAD2\u001b[0m\u001b[0;34m)\u001b[0m\u001b[0;34m\u001b[0m\u001b[0m\n\u001b[0m\u001b[1;32m     28\u001b[0m     \u001b[0mnp\u001b[0m\u001b[0;34m.\u001b[0m\u001b[0mset_printoptions\u001b[0m\u001b[0;34m(\u001b[0m\u001b[0mprecision\u001b[0m\u001b[0;34m=\u001b[0m\u001b[0;36m3\u001b[0m\u001b[0;34m,\u001b[0m \u001b[0msuppress\u001b[0m\u001b[0;34m=\u001b[0m\u001b[0;32mTrue\u001b[0m\u001b[0;34m)\u001b[0m\u001b[0;34m\u001b[0m\u001b[0m\n\u001b[1;32m     29\u001b[0m     \u001b[0;31m#print(A)\u001b[0m\u001b[0;34m\u001b[0m\u001b[0;34m\u001b[0m\u001b[0m\n",
      "\u001b[0;31mTypeError\u001b[0m: system_form_problem_12_15() got an unexpected keyword argument 'Load1'"
     ]
    }
   ],
   "source": [
    "import numpy as np\n",
    "\n",
    "def system_form_problem_12_15(load1,load2):\n",
    "#     node0\n",
    "    A[0,0] = 1.0\n",
    "\n",
    "    A[0,4] = np.cos(rads45)\n",
    "\n",
    "    A[0,6] = -np.cos(rads45)\n",
    "\n",
    "   \n",
    "\n",
    "    # (Equation 1) Vertical:  -F4sin(45) - F6sin(45) - Load1 = 0\n",
    "\n",
    "    A[1,4] = -np.sin(rads45)\n",
    "\n",
    "    A[1,6] = -np.sin(rads45)\n",
    "\n",
    "    b[1] = Load1\n",
    "    \n",
    "#     node1\n",
    "#     horizontal\n",
    "    A[2,0] =1\n",
    "\n",
    "    A[2,3] = -n.p.cos(rads60)\n",
    "    A[2,1]= np.cos(rads30)\n",
    "    \n",
    "#     vertical\n",
    "    A[3,3] = -np.sin(rads60)\n",
    "    A[3,1] = -np.sin(rads30)\n",
    "    \n",
    "    \n",
    "#     b    [   0.  400.    0.    0.    0.    0.    0.    0.    0.    0.]\n",
    "    return\n",
    "\n",
    "\n",
    "\n",
    "def main():\n",
    "    LOAD1,\n",
    "\n",
    "    A, b = system_form_problem_12_15(Load1=LOAD1, Load2=LOAD2)\n",
    "    np.set_printoptions(precision=3, suppress=True)\n",
    "    #print(A)\n",
    "    #print(b)\n",
    "\n",
    "    # Solve for f\n",
    "    f = np.linalg.solve(A,b)\n",
    "    print(f)\n",
    "       \n",
    "LOAD1 = 400.0\n",
    "LOAD2 = 200.0\n",
    "   \n",
    "main()"
   ]
  }
 ],
 "metadata": {
  "kernelspec": {
   "display_name": "Python 3",
   "language": "python",
   "name": "python3"
  },
  "language_info": {
   "codemirror_mode": {
    "name": "ipython",
    "version": 3
   },
   "file_extension": ".py",
   "mimetype": "text/x-python",
   "name": "python",
   "nbconvert_exporter": "python",
   "pygments_lexer": "ipython3",
   "version": "3.6.5"
  }
 },
 "nbformat": 4,
 "nbformat_minor": 2
}
